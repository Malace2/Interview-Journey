{
 "cells": [
  {
   "cell_type": "code",
   "execution_count": 1,
   "metadata": {},
   "outputs": [],
   "source": [
    "import numpy as np\n",
    "import pandas as pd\n",
    "import seaborn as sns\n",
    "%matplotlib inline"
   ]
  },
  {
   "cell_type": "code",
   "execution_count": 9,
   "metadata": {},
   "outputs": [],
   "source": [
    "timestamp = pd.DataFrame({'Timestamp':['1/2/2022 16:08:56','1/2/2022 16:23:31','1/2/2022 16:41:35','1/2/2022 16:57:41','1/2/2022 17:38:22','1/2/2022 17:50:56'],'Person':['A','B','A','B','B','B']})\n",
    "shift = pd.DataFrame({'Date':[]})"
   ]
  }
 ],
 "metadata": {
  "kernelspec": {
   "display_name": "Python 3.10.6 64-bit",
   "language": "python",
   "name": "python3"
  },
  "language_info": {
   "codemirror_mode": {
    "name": "ipython",
    "version": 3
   },
   "file_extension": ".py",
   "mimetype": "text/x-python",
   "name": "python",
   "nbconvert_exporter": "python",
   "pygments_lexer": "ipython3",
   "version": "3.10.6"
  },
  "orig_nbformat": 4,
  "vscode": {
   "interpreter": {
    "hash": "85f626fcaaef1c52a9dd94e583ce47010c4e3ecf017f3affa0efd506b06b59d3"
   }
  }
 },
 "nbformat": 4,
 "nbformat_minor": 2
}
